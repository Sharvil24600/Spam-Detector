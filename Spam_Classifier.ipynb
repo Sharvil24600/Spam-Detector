{
 "cells": [
  {
   "cell_type": "code",
   "execution_count": 1,
   "metadata": {
    "colab": {
     "base_uri": "https://localhost:8080/"
    },
    "id": "CZU1rGZgzB_t",
    "outputId": "dc81876d-ee07-45eb-b72c-500e56d27a4c"
   },
   "outputs": [
    {
     "name": "stderr",
     "output_type": "stream",
     "text": [
      "Cloning into 'SpamClassifier'...\n"
     ]
    }
   ],
   "source": [
    "!git clone https://github.com/krishnaik06/SpamClassifier.git"
   ]
  },
  {
   "cell_type": "code",
   "execution_count": 2,
   "metadata": {
    "colab": {
     "base_uri": "https://localhost:8080/"
    },
    "id": "AedY2kQzz0dC",
    "outputId": "b93f38b8-3cef-4421-8d4f-6f71b1e37d06"
   },
   "outputs": [
    {
     "name": "stderr",
     "output_type": "stream",
     "text": [
      "[nltk_data] Downloading package punkt to C:\\Users\\Yash A\n",
      "[nltk_data]     Patel\\AppData\\Roaming\\nltk_data...\n",
      "[nltk_data]   Package punkt is already up-to-date!\n"
     ]
    }
   ],
   "source": [
    "import numpy as np\n",
    "import pandas as pd\n",
    "import nltk\n",
    "nltk.download('punkt')\n",
    "from nltk import PorterStemmer, WordNetLemmatizer\n",
    "from nltk.corpus import stopwords"
   ]
  },
  {
   "cell_type": "code",
   "execution_count": 3,
   "metadata": {
    "colab": {
     "base_uri": "https://localhost:8080/"
    },
    "id": "RRNJaKgMe6_0",
    "outputId": "959be067-db12-4866-ed23-5d9522165297"
   },
   "outputs": [
    {
     "name": "stdout",
     "output_type": "stream",
     "text": [
      "absl-py==0.12.0\n",
      "alabaster==0.7.12\n",
      "albumentations==0.1.12\n",
      "altair==4.1.0\n",
      "appdirs==1.4.4\n",
      "argon2-cffi==20.1.0\n",
      "arviz==0.11.2\n",
      "astor==0.8.1\n",
      "astropy==4.2.1\n",
      "astunparse==1.6.3\n",
      "async-generator==1.10\n",
      "atari-py==0.2.9\n",
      "atomicwrites==1.4.0\n",
      "attrs==21.2.0\n",
      "audioread==2.1.9\n",
      "autograd==1.3\n",
      "Babel==2.9.1\n",
      "backcall==0.2.0\n",
      "beautifulsoup4==4.6.3\n",
      "bleach==3.3.0\n",
      "blis==0.4.1\n",
      "bokeh==2.3.2\n",
      "Bottleneck==1.3.2\n",
      "branca==0.4.2\n",
      "bs4==0.0.1\n",
      "CacheControl==0.12.6\n",
      "cached-property==1.5.2\n",
      "cachetools==4.2.2\n",
      "catalogue==1.0.0\n",
      "certifi==2020.12.5\n",
      "cffi==1.14.5\n",
      "cftime==1.5.0\n",
      "chainer==7.4.0\n",
      "chardet==3.0.4\n",
      "click==7.1.2\n",
      "cloudpickle==1.3.0\n",
      "cmake==3.12.0\n",
      "cmdstanpy==0.9.5\n",
      "colorcet==2.0.6\n",
      "colorlover==0.3.0\n",
      "community==1.0.0b1\n",
      "contextlib2==0.5.5\n",
      "convertdate==2.3.2\n",
      "coverage==3.7.1\n",
      "coveralls==0.5\n",
      "crcmod==1.7\n",
      "cufflinks==0.17.3\n",
      "cvxopt==1.2.6\n",
      "cvxpy==1.0.31\n",
      "cycler==0.10.0\n",
      "cymem==2.0.5\n",
      "Cython==0.29.23\n",
      "daft==0.0.4\n",
      "dask==2.12.0\n",
      "datascience==0.10.6\n",
      "debugpy==1.0.0\n",
      "decorator==4.4.2\n",
      "defusedxml==0.7.1\n",
      "descartes==1.1.0\n",
      "dill==0.3.3\n",
      "distributed==1.25.3\n",
      "dlib==19.18.0\n",
      "dm-tree==0.1.6\n",
      "docopt==0.6.2\n",
      "docutils==0.17.1\n",
      "dopamine-rl==1.0.5\n",
      "earthengine-api==0.1.266\n",
      "easydict==1.9\n",
      "ecos==2.0.7.post1\n",
      "editdistance==0.5.3\n",
      "en-core-web-sm==2.2.5\n",
      "entrypoints==0.3\n",
      "ephem==3.7.7.1\n",
      "et-xmlfile==1.1.0\n",
      "fa2==0.3.5\n",
      "fastai==1.0.61\n",
      "fastdtw==0.3.4\n",
      "fastprogress==1.0.0\n",
      "fastrlock==0.6\n",
      "fbprophet==0.7.1\n",
      "feather-format==0.4.1\n",
      "filelock==3.0.12\n",
      "firebase-admin==4.4.0\n",
      "fix-yahoo-finance==0.0.22\n",
      "Flask==1.1.4\n",
      "flatbuffers==1.12\n",
      "folium==0.8.3\n",
      "future==0.16.0\n",
      "gast==0.4.0\n",
      "GDAL==2.2.2\n",
      "gdown==3.6.4\n",
      "gensim==3.6.0\n",
      "geographiclib==1.50\n",
      "geopy==1.17.0\n",
      "gin-config==0.4.0\n",
      "glob2==0.7\n",
      "google==2.0.3\n",
      "google-api-core==1.26.3\n",
      "google-api-python-client==1.12.8\n",
      "google-auth==1.30.0\n",
      "google-auth-httplib2==0.0.4\n",
      "google-auth-oauthlib==0.4.4\n",
      "google-cloud-bigquery==1.21.0\n",
      "google-cloud-bigquery-storage==1.1.0\n",
      "google-cloud-core==1.0.3\n",
      "google-cloud-datastore==1.8.0\n",
      "google-cloud-firestore==1.7.0\n",
      "google-cloud-language==1.2.0\n",
      "google-cloud-storage==1.18.1\n",
      "google-cloud-translate==1.5.0\n",
      "google-colab==1.0.0\n",
      "google-pasta==0.2.0\n",
      "google-resumable-media==0.4.1\n",
      "googleapis-common-protos==1.53.0\n",
      "googledrivedownloader==0.4\n",
      "graphviz==0.10.1\n",
      "greenlet==1.1.0\n",
      "grpcio==1.34.1\n",
      "gspread==3.0.1\n",
      "gspread-dataframe==3.0.8\n",
      "gym==0.17.3\n",
      "h5py==3.1.0\n",
      "HeapDict==1.0.1\n",
      "hijri-converter==2.1.1\n",
      "holidays==0.10.5.2\n",
      "holoviews==1.14.3\n",
      "html5lib==1.0.1\n",
      "httpimport==0.5.18\n",
      "httplib2==0.17.4\n",
      "httplib2shim==0.0.3\n",
      "humanize==0.5.1\n",
      "hyperopt==0.1.2\n",
      "ideep4py==2.0.0.post3\n",
      "idna==2.10\n",
      "imageio==2.4.1\n",
      "imagesize==1.2.0\n",
      "imbalanced-learn==0.4.3\n",
      "imblearn==0.0\n",
      "imgaug==0.2.9\n",
      "importlib-metadata==4.0.1\n",
      "importlib-resources==5.1.3\n",
      "imutils==0.5.4\n",
      "inflect==2.1.0\n",
      "iniconfig==1.1.1\n",
      "install==1.3.4\n",
      "intel-openmp==2021.2.0\n",
      "intervaltree==2.1.0\n",
      "ipykernel==4.10.1\n",
      "ipython==5.5.0\n",
      "ipython-genutils==0.2.0\n",
      "ipython-sql==0.3.9\n",
      "ipywidgets==7.6.3\n",
      "itsdangerous==1.1.0\n",
      "jax==0.2.13\n",
      "jaxlib==0.1.66+cuda110\n",
      "jdcal==1.4.1\n",
      "jedi==0.18.0\n",
      "jieba==0.42.1\n",
      "Jinja2==2.11.3\n",
      "joblib==1.0.1\n",
      "jpeg4py==0.1.4\n",
      "jsonschema==2.6.0\n",
      "jupyter==1.0.0\n",
      "jupyter-client==5.3.5\n",
      "jupyter-console==5.2.0\n",
      "jupyter-core==4.7.1\n",
      "jupyterlab-pygments==0.1.2\n",
      "jupyterlab-widgets==1.0.0\n",
      "kaggle==1.5.12\n",
      "kapre==0.3.5\n",
      "Keras==2.4.3\n",
      "keras-nightly==2.5.0.dev2021032900\n",
      "Keras-Preprocessing==1.1.2\n",
      "keras-vis==0.4.1\n",
      "kiwisolver==1.3.1\n",
      "korean-lunar-calendar==0.2.1\n",
      "librosa==0.8.0\n",
      "lightgbm==2.2.3\n",
      "llvmlite==0.34.0\n",
      "lmdb==0.99\n",
      "LunarCalendar==0.0.9\n",
      "lxml==4.2.6\n",
      "Markdown==3.3.4\n",
      "MarkupSafe==2.0.1\n",
      "matplotlib==3.2.2\n",
      "matplotlib-inline==0.1.2\n",
      "matplotlib-venn==0.11.6\n",
      "missingno==0.4.2\n",
      "mistune==0.8.4\n",
      "mizani==0.6.0\n",
      "mkl==2019.0\n",
      "mlxtend==0.14.0\n",
      "more-itertools==8.7.0\n",
      "moviepy==0.2.3.5\n",
      "mpmath==1.2.1\n",
      "msgpack==1.0.2\n",
      "multiprocess==0.70.11.1\n",
      "multitasking==0.0.9\n",
      "murmurhash==1.0.5\n",
      "music21==5.5.0\n",
      "natsort==5.5.0\n",
      "nbclient==0.5.3\n",
      "nbconvert==5.6.1\n",
      "nbformat==5.1.3\n",
      "nest-asyncio==1.5.1\n",
      "netCDF4==1.5.6\n",
      "networkx==2.5.1\n",
      "nibabel==3.0.2\n",
      "nltk==3.2.5\n",
      "notebook==5.3.1\n",
      "numba==0.51.2\n",
      "numexpr==2.7.3\n",
      "numpy==1.19.5\n",
      "nvidia-ml-py3==7.352.0\n",
      "oauth2client==4.1.3\n",
      "oauthlib==3.1.0\n",
      "okgrade==0.4.3\n",
      "opencv-contrib-python==4.1.2.30\n",
      "opencv-python==4.1.2.30\n",
      "openpyxl==2.5.9\n",
      "opt-einsum==3.3.0\n",
      "osqp==0.6.2.post0\n",
      "packaging==20.9\n",
      "palettable==3.3.0\n",
      "pandas==1.1.5\n",
      "pandas-datareader==0.9.0\n",
      "pandas-gbq==0.13.3\n",
      "pandas-profiling==1.4.1\n",
      "pandocfilters==1.4.3\n",
      "panel==0.11.3\n",
      "param==1.10.1\n",
      "parso==0.8.2\n",
      "pathlib==1.0.1\n",
      "patsy==0.5.1\n",
      "pexpect==4.8.0\n",
      "pickleshare==0.7.5\n",
      "Pillow==7.1.2\n",
      "pip-tools==4.5.1\n",
      "plac==1.1.3\n",
      "plotly==4.4.1\n",
      "plotnine==0.6.0\n",
      "pluggy==0.7.1\n",
      "pooch==1.3.0\n",
      "portpicker==1.3.9\n",
      "prefetch-generator==1.0.1\n",
      "preshed==3.0.5\n",
      "prettytable==2.1.0\n",
      "progressbar2==3.38.0\n",
      "prometheus-client==0.10.1\n",
      "promise==2.3\n",
      "prompt-toolkit==1.0.18\n",
      "protobuf==3.12.4\n",
      "psutil==5.4.8\n",
      "psycopg2==2.7.6.1\n",
      "ptyprocess==0.7.0\n",
      "py==1.10.0\n",
      "pyarrow==3.0.0\n",
      "pyasn1==0.4.8\n",
      "pyasn1-modules==0.2.8\n",
      "pycocotools==2.0.2\n",
      "pycparser==2.20\n",
      "pyct==0.4.8\n",
      "pydata-google-auth==1.2.0\n",
      "pydot==1.3.0\n",
      "pydot-ng==2.0.0\n",
      "pydotplus==2.0.2\n",
      "PyDrive==1.3.1\n",
      "pyemd==0.5.1\n",
      "pyerfa==2.0.0\n",
      "pyglet==1.5.0\n",
      "Pygments==2.6.1\n",
      "pygobject==3.26.1\n",
      "pymc3==3.11.2\n",
      "PyMeeus==0.5.11\n",
      "pymongo==3.11.4\n",
      "pymystem3==0.2.0\n",
      "PyOpenGL==3.1.5\n",
      "pyparsing==2.4.7\n",
      "pyrsistent==0.17.3\n",
      "pysndfile==1.3.8\n",
      "PySocks==1.7.1\n",
      "pystan==2.19.1.1\n",
      "pytest==3.6.4\n",
      "python-apt==0.0.0\n",
      "python-chess==0.23.11\n",
      "python-dateutil==2.8.1\n",
      "python-louvain==0.15\n",
      "python-slugify==5.0.2\n",
      "python-utils==2.5.6\n",
      "pytz==2018.9\n",
      "pyviz-comms==2.0.1\n",
      "PyWavelets==1.1.1\n",
      "PyYAML==3.13\n",
      "pyzmq==22.0.3\n",
      "qdldl==0.1.5.post0\n",
      "qtconsole==5.1.0\n",
      "QtPy==1.9.0\n",
      "regex==2019.12.20\n",
      "requests==2.23.0\n",
      "requests-oauthlib==1.3.0\n",
      "resampy==0.2.2\n",
      "retrying==1.3.3\n",
      "rpy2==3.4.4\n",
      "rsa==4.7.2\n",
      "scikit-image==0.16.2\n",
      "scikit-learn==0.22.2.post1\n",
      "scipy==1.4.1\n",
      "screen-resolution-extra==0.0.0\n",
      "scs==2.1.3\n",
      "seaborn==0.11.1\n",
      "semver==2.13.0\n",
      "Send2Trash==1.5.0\n",
      "setuptools-git==1.2\n",
      "Shapely==1.7.1\n",
      "simplegeneric==0.8.1\n",
      "six==1.15.0\n",
      "sklearn==0.0\n",
      "sklearn-pandas==1.8.0\n",
      "smart-open==5.0.0\n",
      "snowballstemmer==2.1.0\n",
      "sortedcontainers==2.4.0\n",
      "SoundFile==0.10.3.post1\n",
      "spacy==2.2.4\n",
      "Sphinx==1.8.5\n",
      "sphinxcontrib-serializinghtml==1.1.4\n",
      "sphinxcontrib-websupport==1.2.4\n",
      "SQLAlchemy==1.4.15\n",
      "sqlparse==0.4.1\n",
      "srsly==1.0.5\n",
      "statsmodels==0.10.2\n",
      "sympy==1.7.1\n",
      "tables==3.4.4\n",
      "tabulate==0.8.9\n",
      "tblib==1.7.0\n",
      "tensorboard==2.5.0\n",
      "tensorboard-data-server==0.6.1\n",
      "tensorboard-plugin-wit==1.8.0\n",
      "tensorflow==2.5.0\n",
      "tensorflow-datasets==4.0.1\n",
      "tensorflow-estimator==2.5.0\n",
      "tensorflow-gcs-config==2.5.0\n",
      "tensorflow-hub==0.12.0\n",
      "tensorflow-metadata==1.0.0\n",
      "tensorflow-probability==0.12.1\n",
      "termcolor==1.1.0\n",
      "terminado==0.10.0\n",
      "testpath==0.5.0\n",
      "text-unidecode==1.3\n",
      "textblob==0.15.3\n",
      "Theano-PyMC==1.1.2\n",
      "thinc==7.4.0\n",
      "tifffile==2021.4.8\n",
      "toml==0.10.2\n",
      "toolz==0.11.1\n",
      "torch==1.8.1+cu101\n",
      "torchsummary==1.5.1\n",
      "torchtext==0.9.1\n",
      "torchvision==0.9.1+cu101\n",
      "tornado==5.1.1\n",
      "tqdm==4.41.1\n",
      "traitlets==5.0.5\n",
      "tweepy==3.10.0\n",
      "typeguard==2.7.1\n",
      "typing-extensions==3.7.4.3\n",
      "tzlocal==1.5.1\n",
      "uritemplate==3.0.1\n",
      "urllib3==1.24.3\n",
      "vega-datasets==0.9.0\n",
      "wasabi==0.8.2\n",
      "wcwidth==0.2.5\n",
      "webencodings==0.5.1\n",
      "Werkzeug==1.0.1\n",
      "widgetsnbextension==3.5.1\n",
      "wordcloud==1.5.0\n",
      "wrapt==1.12.1\n",
      "xarray==0.18.2\n",
      "xgboost==0.90\n",
      "xkit==0.0.0\n",
      "xlrd==1.1.0\n",
      "xlwt==1.3.0\n",
      "yellowbrick==0.9.1\n",
      "zict==2.0.0\n",
      "zipp==3.4.1\n"
     ]
    }
   ],
   "source": [
    "#!pip freeze requirements.txt\n",
    "#out = !pip freeze requirements.txt\n",
    "#with open('requirements.txt', 'w') as writefile:\n",
    "#    for element in out:\n",
    "#      writefile.write(element)\n",
    "#      writefile.write('\\n')"
   ]
  },
  {
   "cell_type": "code",
   "execution_count": 8,
   "metadata": {
    "id": "0MnXlg1T0IGN"
   },
   "outputs": [],
   "source": [
    "data = pd.read_csv('SpamClassifier/smsspamcollection/SMSSpamCollection', sep='\\t',names=['label', 'message'])"
   ]
  },
  {
   "cell_type": "code",
   "execution_count": 9,
   "metadata": {
    "colab": {
     "base_uri": "https://localhost:8080/",
     "height": 206
    },
    "id": "4SjbYwtX0QOM",
    "outputId": "ced23f52-2caa-46fe-b843-8195d0da4e6b"
   },
   "outputs": [
    {
     "data": {
      "text/html": [
       "<div>\n",
       "<style scoped>\n",
       "    .dataframe tbody tr th:only-of-type {\n",
       "        vertical-align: middle;\n",
       "    }\n",
       "\n",
       "    .dataframe tbody tr th {\n",
       "        vertical-align: top;\n",
       "    }\n",
       "\n",
       "    .dataframe thead th {\n",
       "        text-align: right;\n",
       "    }\n",
       "</style>\n",
       "<table border=\"1\" class=\"dataframe\">\n",
       "  <thead>\n",
       "    <tr style=\"text-align: right;\">\n",
       "      <th></th>\n",
       "      <th>label</th>\n",
       "      <th>message</th>\n",
       "    </tr>\n",
       "  </thead>\n",
       "  <tbody>\n",
       "    <tr>\n",
       "      <th>0</th>\n",
       "      <td>ham</td>\n",
       "      <td>Go until jurong point, crazy.. Available only ...</td>\n",
       "    </tr>\n",
       "    <tr>\n",
       "      <th>1</th>\n",
       "      <td>ham</td>\n",
       "      <td>Ok lar... Joking wif u oni...</td>\n",
       "    </tr>\n",
       "    <tr>\n",
       "      <th>2</th>\n",
       "      <td>spam</td>\n",
       "      <td>Free entry in 2 a wkly comp to win FA Cup fina...</td>\n",
       "    </tr>\n",
       "    <tr>\n",
       "      <th>3</th>\n",
       "      <td>ham</td>\n",
       "      <td>U dun say so early hor... U c already then say...</td>\n",
       "    </tr>\n",
       "    <tr>\n",
       "      <th>4</th>\n",
       "      <td>ham</td>\n",
       "      <td>Nah I don't think he goes to usf, he lives aro...</td>\n",
       "    </tr>\n",
       "  </tbody>\n",
       "</table>\n",
       "</div>"
      ],
      "text/plain": [
       "  label                                            message\n",
       "0   ham  Go until jurong point, crazy.. Available only ...\n",
       "1   ham                      Ok lar... Joking wif u oni...\n",
       "2  spam  Free entry in 2 a wkly comp to win FA Cup fina...\n",
       "3   ham  U dun say so early hor... U c already then say...\n",
       "4   ham  Nah I don't think he goes to usf, he lives aro..."
      ]
     },
     "execution_count": 9,
     "metadata": {},
     "output_type": "execute_result"
    }
   ],
   "source": [
    "data.head()"
   ]
  },
  {
   "cell_type": "code",
   "execution_count": 10,
   "metadata": {
    "id": "Fbh9Xy4T0fWo"
   },
   "outputs": [],
   "source": [
    "from sklearn.preprocessing import LabelEncoder\n",
    "labelencoder = LabelEncoder()\n",
    "data['spam'] = labelencoder.fit_transform(data['label'])"
   ]
  },
  {
   "cell_type": "code",
   "execution_count": 11,
   "metadata": {
    "colab": {
     "base_uri": "https://localhost:8080/",
     "height": 206
    },
    "id": "Gg3KGliI1bRp",
    "outputId": "9ceaf799-59b0-4a07-f9db-e20adc9653f5"
   },
   "outputs": [
    {
     "data": {
      "text/html": [
       "<div>\n",
       "<style scoped>\n",
       "    .dataframe tbody tr th:only-of-type {\n",
       "        vertical-align: middle;\n",
       "    }\n",
       "\n",
       "    .dataframe tbody tr th {\n",
       "        vertical-align: top;\n",
       "    }\n",
       "\n",
       "    .dataframe thead th {\n",
       "        text-align: right;\n",
       "    }\n",
       "</style>\n",
       "<table border=\"1\" class=\"dataframe\">\n",
       "  <thead>\n",
       "    <tr style=\"text-align: right;\">\n",
       "      <th></th>\n",
       "      <th>label</th>\n",
       "      <th>message</th>\n",
       "      <th>spam</th>\n",
       "    </tr>\n",
       "  </thead>\n",
       "  <tbody>\n",
       "    <tr>\n",
       "      <th>0</th>\n",
       "      <td>ham</td>\n",
       "      <td>Go until jurong point, crazy.. Available only ...</td>\n",
       "      <td>0</td>\n",
       "    </tr>\n",
       "    <tr>\n",
       "      <th>1</th>\n",
       "      <td>ham</td>\n",
       "      <td>Ok lar... Joking wif u oni...</td>\n",
       "      <td>0</td>\n",
       "    </tr>\n",
       "    <tr>\n",
       "      <th>2</th>\n",
       "      <td>spam</td>\n",
       "      <td>Free entry in 2 a wkly comp to win FA Cup fina...</td>\n",
       "      <td>1</td>\n",
       "    </tr>\n",
       "    <tr>\n",
       "      <th>3</th>\n",
       "      <td>ham</td>\n",
       "      <td>U dun say so early hor... U c already then say...</td>\n",
       "      <td>0</td>\n",
       "    </tr>\n",
       "    <tr>\n",
       "      <th>4</th>\n",
       "      <td>ham</td>\n",
       "      <td>Nah I don't think he goes to usf, he lives aro...</td>\n",
       "      <td>0</td>\n",
       "    </tr>\n",
       "  </tbody>\n",
       "</table>\n",
       "</div>"
      ],
      "text/plain": [
       "  label                                            message  spam\n",
       "0   ham  Go until jurong point, crazy.. Available only ...     0\n",
       "1   ham                      Ok lar... Joking wif u oni...     0\n",
       "2  spam  Free entry in 2 a wkly comp to win FA Cup fina...     1\n",
       "3   ham  U dun say so early hor... U c already then say...     0\n",
       "4   ham  Nah I don't think he goes to usf, he lives aro...     0"
      ]
     },
     "execution_count": 11,
     "metadata": {},
     "output_type": "execute_result"
    }
   ],
   "source": [
    "data.head()"
   ]
  },
  {
   "cell_type": "code",
   "execution_count": 12,
   "metadata": {
    "id": "JJUOqQOq1cwm"
   },
   "outputs": [],
   "source": [
    "data.drop(['label'],inplace=True, axis=1)"
   ]
  },
  {
   "cell_type": "code",
   "execution_count": 13,
   "metadata": {
    "colab": {
     "base_uri": "https://localhost:8080/"
    },
    "id": "LtavBFc22uaL",
    "outputId": "9ecc4fd6-aa8a-48b1-eaa5-7f797989b61a"
   },
   "outputs": [
    {
     "name": "stderr",
     "output_type": "stream",
     "text": [
      "[nltk_data] Downloading package stopwords to C:\\Users\\Yash A\n",
      "[nltk_data]     Patel\\AppData\\Roaming\\nltk_data...\n",
      "[nltk_data]   Package stopwords is already up-to-date!\n"
     ]
    },
    {
     "data": {
      "text/plain": [
       "True"
      ]
     },
     "execution_count": 13,
     "metadata": {},
     "output_type": "execute_result"
    }
   ],
   "source": [
    "import re\n",
    "ps = PorterStemmer()\n",
    "wnl = WordNetLemmatizer()\n",
    "nltk.download('stopwords')"
   ]
  },
  {
   "cell_type": "code",
   "execution_count": 14,
   "metadata": {
    "colab": {
     "base_uri": "https://localhost:8080/"
    },
    "id": "AT6IrWVE1kjE",
    "outputId": "93b3308b-58b2-4531-f023-9111a98e74d2"
   },
   "outputs": [
    {
     "name": "stdout",
     "output_type": "stream",
     "text": [
      "['go jurong point crazi avail bugi n great world la e buffet cine got amor wat', 'ok lar joke wif u oni', 'free entri wkli comp win fa cup final tkt st may text fa receiv entri question std txt rate c appli', 'u dun say earli hor u c alreadi say', 'nah think goe usf live around though']\n"
     ]
    }
   ],
   "source": [
    "corpus = []\n",
    "for message in data['message']:\n",
    "  final_msg = re.sub('[^a-zA-Z]', ' ', message)\n",
    "  final_msg = final_msg.lower()\n",
    "  final_msg = final_msg.split()\n",
    "  final_msg = [ps.stem(word) for word in final_msg if not word in stopwords.words('english')]\n",
    "  final_msg = ' '.join(final_msg)\n",
    "  corpus.append(final_msg)\n",
    "print(corpus[0:5])"
   ]
  },
  {
   "cell_type": "code",
   "execution_count": 15,
   "metadata": {
    "id": "voe4Z9VF2m0G"
   },
   "outputs": [],
   "source": [
    "from sklearn.feature_extraction.text import CountVectorizer\n",
    "CV = CountVectorizer()\n",
    "X = CV.fit_transform(corpus)\n",
    "y = data['spam']"
   ]
  },
  {
   "cell_type": "code",
   "execution_count": 16,
   "metadata": {
    "id": "gsssEsAm3S87"
   },
   "outputs": [],
   "source": [
    "from sklearn.model_selection import train_test_split\n",
    "X_train, X_test, y_train, y_test = train_test_split(X,y, test_size=0.2)"
   ]
  },
  {
   "cell_type": "code",
   "execution_count": 17,
   "metadata": {
    "colab": {
     "base_uri": "https://localhost:8080/"
    },
    "id": "VEiZmT3r3mYV",
    "outputId": "33e5d583-7b60-42bb-81d3-264a5e69d7da"
   },
   "outputs": [
    {
     "name": "stdout",
     "output_type": "stream",
     "text": [
      "(4457, 6296)     (1115, 6296)     (4457,)     (1115,)\n"
     ]
    }
   ],
   "source": [
    "print(X_train.shape,'   ', X_test.shape,'   ', y_train.shape,'   ', y_test.shape)"
   ]
  },
  {
   "cell_type": "code",
   "execution_count": 18,
   "metadata": {
    "colab": {
     "base_uri": "https://localhost:8080/"
    },
    "id": "_qiOznC13zSC",
    "outputId": "ddd75091-c812-4a17-d2c1-562b78be502a"
   },
   "outputs": [
    {
     "data": {
      "text/plain": [
       "MultinomialNB(alpha=1.0, class_prior=None, fit_prior=True)"
      ]
     },
     "execution_count": 18,
     "metadata": {},
     "output_type": "execute_result"
    }
   ],
   "source": [
    "from sklearn.naive_bayes import MultinomialNB\n",
    "spam_detector = MultinomialNB()\n",
    "spam_detector.fit(X_train, y_train)"
   ]
  },
  {
   "cell_type": "code",
   "execution_count": 19,
   "metadata": {
    "id": "2LkM5jPF4cEC"
   },
   "outputs": [],
   "source": [
    "y_pred = spam_detector.predict(X_test)\n",
    "#Accuracy_score = spam_detector.score(y_test, y_pred)"
   ]
  },
  {
   "cell_type": "code",
   "execution_count": 20,
   "metadata": {
    "colab": {
     "base_uri": "https://localhost:8080/"
    },
    "id": "dIN80eeR4dRf",
    "outputId": "0a7c5c64-20af-4c24-b9f8-f9811d56aaeb"
   },
   "outputs": [
    {
     "data": {
      "text/plain": [
       "array([0, 0, 0, ..., 0, 0, 0])"
      ]
     },
     "execution_count": 20,
     "metadata": {},
     "output_type": "execute_result"
    }
   ],
   "source": [
    "y_pred"
   ]
  },
  {
   "cell_type": "code",
   "execution_count": 21,
   "metadata": {
    "colab": {
     "base_uri": "https://localhost:8080/"
    },
    "id": "mHC0-Cwg4gv8",
    "outputId": "c69f4acf-6ba5-43a4-840c-a23c36c0ad4f"
   },
   "outputs": [
    {
     "name": "stdout",
     "output_type": "stream",
     "text": [
      "0.9748878923766816\n"
     ]
    }
   ],
   "source": [
    "from sklearn.metrics import accuracy_score\n",
    "acc = accuracy_score(y_test, y_pred)\n",
    "print(acc)"
   ]
  },
  {
   "cell_type": "code",
   "execution_count": 22,
   "metadata": {
    "id": "l6MXPlIc43J-"
   },
   "outputs": [],
   "source": [
    "import pickle\n",
    "file = open('spam_model.pkl', 'wb')\n",
    "pickle.dump(spam_detector, file)"
   ]
  },
  {
   "cell_type": "code",
   "execution_count": 23,
   "metadata": {
    "id": "vJUpCNCh_qD6"
   },
   "outputs": [],
   "source": [
    "import pickle\n",
    "file = open('transform.pkl', 'wb')\n",
    "pickle.dump(CV, file)"
   ]
  },
  {
   "cell_type": "code",
   "execution_count": null,
   "metadata": {
    "id": "W2Lv3w7E_0js"
   },
   "outputs": [],
   "source": []
  }
 ],
 "metadata": {
  "colab": {
   "collapsed_sections": [],
   "name": "Spam_Classifier.ipynb",
   "provenance": []
  },
  "kernelspec": {
   "display_name": "Python 3",
   "language": "python",
   "name": "python3"
  },
  "language_info": {
   "codemirror_mode": {
    "name": "ipython",
    "version": 3
   },
   "file_extension": ".py",
   "mimetype": "text/x-python",
   "name": "python",
   "nbconvert_exporter": "python",
   "pygments_lexer": "ipython3",
   "version": "3.7.3"
  }
 },
 "nbformat": 4,
 "nbformat_minor": 1
}
